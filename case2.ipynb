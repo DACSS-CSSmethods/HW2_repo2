{
  "nbformat": 4,
  "nbformat_minor": 0,
  "metadata": {
    "colab": {
      "provenance": []
    },
    "kernelspec": {
      "name": "python3",
      "display_name": "Python 3"
    },
    "language_info": {
      "name": "python"
    }
  },
  "cells": [
    {
      "cell_type": "code",
      "source": [
        "import pandas as pd\n",
        "import networkx as nx"
      ],
      "metadata": {
        "id": "X1Qlw1BzM4OJ"
      },
      "execution_count": 4,
      "outputs": []
    },
    {
      "cell_type": "code",
      "execution_count": null,
      "metadata": {
        "id": "6SYNAkSwJhtH"
      },
      "outputs": [],
      "source": [
        "from IPython.display import IFrame\n",
        "IFrame('https://www.builtinseattle.com/2018/08/06/50-seattle-tech-twitter-accounts-to-follow', 800, 350)"
      ]
    },
    {
      "cell_type": "code",
      "source": [
        "IFrame('https://docs.google.com/spreadsheets/d/e/2PACX-1vRcnvcCrg58H3YAjZpEcGIRa48JrOySKnh4k6q9_-ENWTGatWvS3RayQs6CNR36rJfvi8ld0PPI6Jko/pubhtml', 800, 350)"
      ],
      "metadata": {
        "id": "EdqeUqgtMJfl"
      },
      "execution_count": null,
      "outputs": []
    },
    {
      "cell_type": "code",
      "source": [
        "# link to GitHub\n",
        "linkGoogle=\"https://github.com/DACSS-CSSmeths/Networks_intro/raw/refs/heads/main/casesData/SeattleTopData.xlsx\""
      ],
      "metadata": {
        "id": "23AjbzQnMLw8"
      },
      "execution_count": null,
      "outputs": []
    },
    {
      "cell_type": "code",
      "source": [
        "# Create a directed graph\n",
        "DG = nx.DiGraph()"
      ],
      "metadata": {
        "id": "hK1J-jswNLpv"
      },
      "execution_count": 5,
      "outputs": []
    },
    {
      "cell_type": "code",
      "source": [
        "# Add edges with weights\n",
        "for _, row in edges_df.iterrows():\n",
        "    source = row['source']\n",
        "    target = row['target']\n",
        "    weight = row['weight']\n",
        "    DG.add_edge(source, target, weight=weight)"
      ],
      "metadata": {
        "id": "Rj2dRpoRNRpq"
      },
      "execution_count": 6,
      "outputs": []
    },
    {
      "cell_type": "code",
      "source": [
        "# Add node attributes to the directed graph\n",
        "for _, row in attributes_df.iterrows():\n",
        "    node = row['name']\n",
        "    if node in DG.nodes:\n",
        "        DG.nodes[node]['male'] = row['male']\n",
        "        DG.nodes[node]['followers'] = row['followers']"
      ],
      "metadata": {
        "id": "XL4XrbI7NZtI"
      },
      "execution_count": 10,
      "outputs": []
    },
    {
      "cell_type": "code",
      "source": [
        "print(f\"Number of nodes: {DG.number_of_nodes()}\")\n",
        "print(f\"Number of edges: {DG.number_of_edges()}\")\n",
        "\n",
        "print(\"\\nSample nodes with attributes:\")\n",
        "print(list(DG.nodes(data=True))[:5])\n",
        "\n",
        "print(\"\\nSample directed edges with weights:\")\n",
        "print(list(DG.edges(data=True))[:5])"
      ],
      "metadata": {
        "colab": {
          "base_uri": "https://localhost:8080/"
        },
        "id": "glw-TUMsOkBI",
        "outputId": "4fa90ae6-0c71-4ed6-b93a-f20ae1c6b4f6"
      },
      "execution_count": 11,
      "outputs": [
        {
          "output_type": "stream",
          "name": "stdout",
          "text": [
            "Number of nodes: 46\n",
            "Number of edges: 588\n",
            "\n",
            "Sample nodes with attributes:\n",
            "[('rachelerman', {'male': 0, 'followers': 7139}), ('mattmcilwain', {'male': 1, 'followers': 2804}), ('DaveParkerSEA', {'male': 1, 'followers': 3328}), ('toddbishop', {'male': 1, 'followers': 24500}), ('ashannstew', {'male': 0, 'followers': 3382})]\n",
            "\n",
            "Sample directed edges with weights:\n",
            "[('rachelerman', 'mattmcilwain', {'weight': 1}), ('rachelerman', 'DaveParkerSEA', {'weight': 1}), ('rachelerman', 'toddbishop', {'weight': 1}), ('rachelerman', 'ashannstew', {'weight': 1}), ('rachelerman', 'LeslieFeinzaig', {'weight': 1})]\n"
          ]
        }
      ]
    },
    {
      "cell_type": "code",
      "source": [
        "nx.write_graphml(DG, \"seattle_network.graphml\")"
      ],
      "metadata": {
        "id": "P5iu-OKVOxLR"
      },
      "execution_count": 12,
      "outputs": []
    },
    {
      "cell_type": "code",
      "source": [
        "from google.colab import files\n",
        "files.download(\"seattle_network.graphml\")\n"
      ],
      "metadata": {
        "colab": {
          "base_uri": "https://localhost:8080/",
          "height": 17
        },
        "id": "uUka9G0UOzyh",
        "outputId": "d01ccdab-4d5a-4f8d-f4bb-0280fe732043"
      },
      "execution_count": 13,
      "outputs": [
        {
          "output_type": "display_data",
          "data": {
            "text/plain": [
              "<IPython.core.display.Javascript object>"
            ],
            "application/javascript": [
              "\n",
              "    async function download(id, filename, size) {\n",
              "      if (!google.colab.kernel.accessAllowed) {\n",
              "        return;\n",
              "      }\n",
              "      const div = document.createElement('div');\n",
              "      const label = document.createElement('label');\n",
              "      label.textContent = `Downloading \"${filename}\": `;\n",
              "      div.appendChild(label);\n",
              "      const progress = document.createElement('progress');\n",
              "      progress.max = size;\n",
              "      div.appendChild(progress);\n",
              "      document.body.appendChild(div);\n",
              "\n",
              "      const buffers = [];\n",
              "      let downloaded = 0;\n",
              "\n",
              "      const channel = await google.colab.kernel.comms.open(id);\n",
              "      // Send a message to notify the kernel that we're ready.\n",
              "      channel.send({})\n",
              "\n",
              "      for await (const message of channel.messages) {\n",
              "        // Send a message to notify the kernel that we're ready.\n",
              "        channel.send({})\n",
              "        if (message.buffers) {\n",
              "          for (const buffer of message.buffers) {\n",
              "            buffers.push(buffer);\n",
              "            downloaded += buffer.byteLength;\n",
              "            progress.value = downloaded;\n",
              "          }\n",
              "        }\n",
              "      }\n",
              "      const blob = new Blob(buffers, {type: 'application/binary'});\n",
              "      const a = document.createElement('a');\n",
              "      a.href = window.URL.createObjectURL(blob);\n",
              "      a.download = filename;\n",
              "      div.appendChild(a);\n",
              "      a.click();\n",
              "      div.remove();\n",
              "    }\n",
              "  "
            ]
          },
          "metadata": {}
        },
        {
          "output_type": "display_data",
          "data": {
            "text/plain": [
              "<IPython.core.display.Javascript object>"
            ],
            "application/javascript": [
              "download(\"download_bf579cca-155b-4ff9-aa19-305c2a724bef\", \"seattle_network.graphml\", 52608)"
            ]
          },
          "metadata": {}
        }
      ]
    }
  ]
}
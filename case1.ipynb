{
  "nbformat": 4,
  "nbformat_minor": 0,
  "metadata": {
    "colab": {
      "provenance": []
    },
    "kernelspec": {
      "name": "python3",
      "display_name": "Python 3"
    },
    "language_info": {
      "name": "python"
    }
  },
  "cells": [
    {
      "cell_type": "code",
      "source": [
        "import pandas as pd\n",
        "import networkx as nx"
      ],
      "metadata": {
        "id": "OS4WcPloFfD8"
      },
      "execution_count": 5,
      "outputs": []
    },
    {
      "cell_type": "code",
      "execution_count": 1,
      "metadata": {
        "colab": {
          "base_uri": "https://localhost:8080/",
          "height": 371
        },
        "collapsed": true,
        "id": "D6xXSdXg-APb",
        "outputId": "84edb5cc-6bb3-4497-cb01-360188b949e3"
      },
      "outputs": [
        {
          "output_type": "execute_result",
          "data": {
            "text/plain": [
              "<IPython.lib.display.IFrame at 0x7ea6aedf2b50>"
            ],
            "text/html": [
              "\n",
              "        <iframe\n",
              "            width=\"1200\"\n",
              "            height=\"350\"\n",
              "            src=\"https://docs.google.com/spreadsheets/d/e/2PACX-1vSHI_TY6rh9zEctvxnk83Vg88m1uXAEPA9DYT__TYOt5eS2mFovlraOXkaUcV8YZhbU30u34NfaMpY1/pubhtml\"\n",
              "            frameborder=\"0\"\n",
              "            allowfullscreen\n",
              "            \n",
              "        ></iframe>\n",
              "        "
            ]
          },
          "metadata": {},
          "execution_count": 1
        }
      ],
      "source": [
        "from IPython.display import IFrame\n",
        "IFrame(\"https://docs.google.com/spreadsheets/d/e/2PACX-1vSHI_TY6rh9zEctvxnk83Vg88m1uXAEPA9DYT__TYOt5eS2mFovlraOXkaUcV8YZhbU30u34NfaMpY1/pubhtml\",1200,350)"
      ]
    },
    {
      "cell_type": "code",
      "source": [
        "# reading in\n",
        "import pandas as pd\n",
        "LinkToData=\"https://github.com/DACSS-CSSmeths/Networks_intro/raw/refs/heads/main/casesData/dataFigueroa.xlsx\"\n",
        "FigueData = pd.read_excel(LinkToData,sheet_name='Relationships',\n",
        "                          index_col=0) #notice!!!!!\n",
        "attributes_df = pd.read_excel(LinkToData, sheet_name='Attributes')\n",
        ""
      ],
      "metadata": {
        "collapsed": true,
        "id": "c24NB9IuCQGS"
      },
      "execution_count": 9,
      "outputs": []
    },
    {
      "cell_type": "code",
      "source": [
        "# Initialize an undirected graph\n",
        "G = nx.Graph()"
      ],
      "metadata": {
        "id": "lFPTCzlnGaiZ"
      },
      "execution_count": 10,
      "outputs": []
    },
    {
      "cell_type": "code",
      "source": [
        "# Convert adjacency matrix into edge list (no self-loops)\n",
        "edges = []\n",
        "for i in range(len(FigueData)):\n",
        "    for j in range(i + 1, len(FigueData.columns)):\n",
        "        if FigueData.iloc[i, j] == 1:\n",
        "            source = FigueData.index[i]\n",
        "            target = FigueData.columns[j]\n",
        "            edges.append((source, target))"
      ],
      "metadata": {
        "id": "T9ySDzdLGgYl"
      },
      "execution_count": 11,
      "outputs": []
    },
    {
      "cell_type": "code",
      "source": [
        "# Add edges to the graph\n",
        "G.add_edges_from(edges)\n",
        "\n",
        "# Add node attributes\n",
        "for _, row in attributes_df.iterrows():\n",
        "    node = row['node']\n",
        "    if node in G.nodes:\n",
        "        G.nodes[node]['Multinacional'] = row['Multinacional']\n",
        "\n",
        "# Print a summary\n",
        "print(f\"Number of nodes: {G.number_of_nodes()}\")\n",
        "print(f\"Number of edges: {G.number_of_edges()}\")\n",
        "print(\"\\nSample nodes with attributes:\")\n",
        "print(list(G.nodes(data=True))[:5])"
      ],
      "metadata": {
        "colab": {
          "base_uri": "https://localhost:8080/"
        },
        "id": "IzJ_RGFoGoux",
        "outputId": "cc371a7c-737a-42d7-f16c-c4ee7b8ed1fc"
      },
      "execution_count": 12,
      "outputs": [
        {
          "output_type": "stream",
          "name": "stdout",
          "text": [
            "Number of nodes: 31\n",
            "Number of edges: 133\n",
            "\n",
            "Sample nodes with attributes:\n",
            "[('Romero', {'Multinacional': 1}), ('Graña', {'Multinacional': 1}), ('Miro Quesada', {'Multinacional': 1}), ('Moreyra', {'Multinacional': 1}), ('Fort', {'Multinacional': 1})]\n"
          ]
        }
      ]
    },
    {
      "cell_type": "code",
      "source": [
        "nx.write_graphml(G, \"figueroa_network.graphml\")"
      ],
      "metadata": {
        "id": "tc2-fw-sJAlt"
      },
      "execution_count": 13,
      "outputs": []
    }
  ]
}